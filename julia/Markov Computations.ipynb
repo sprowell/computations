{
 "cells": [
  {
   "cell_type": "markdown",
   "metadata": {},
   "source": [
    "# Markov Computations\n",
    "\n",
    "This notebook provides the computations contained in the book along with the examples of their use.\n",
    "\n",
    "If you want to import this into a running Julia shell, first choose \"Download as\" on the \"File\" menu and select \"Julia (.jl)\".  Next, start a Julia shell and include the file.\n",
    "\n",
    "```juila-repl\n",
    "julia> include(\"Markov Computations.jl\")\n",
    "```\n",
    "\n",
    "This may take a minute or two, and will display the variables  and functions that are now available at the end."
   ]
  },
  {
   "cell_type": "markdown",
   "metadata": {},
   "source": [
    "## Contents\n",
    "From Chapter 1 of the text\n",
    "  * [Preliminaries](#Preliminaries)\n",
    "  * [Representing models](#Representing-models)"
   ]
  },
  {
   "cell_type": "markdown",
   "metadata": {},
   "source": [
    "Note that we will use the `LinearAlgebra` package."
   ]
  },
  {
   "cell_type": "code",
   "execution_count": 1,
   "metadata": {
    "execution": {
     "iopub.execute_input": "2020-08-16T14:20:18.944000-04:00",
     "iopub.status.busy": "2020-08-16T14:20:16.659000-04:00",
     "iopub.status.idle": "2020-08-16T14:20:20.255000-04:00"
    }
   },
   "outputs": [],
   "source": [
    "using LinearAlgebra"
   ]
  },
  {
   "cell_type": "markdown",
   "metadata": {},
   "source": [
    "## Preliminaries\n",
    "\n",
    "The following is a procedure to row-normalize a matrix, all of whose entries are assumed to be nonnegative numbers."
   ]
  },
  {
   "cell_type": "code",
   "execution_count": 2,
   "metadata": {},
   "outputs": [
    {
     "data": {
      "text/plain": [
       "row_norm"
      ]
     },
     "execution_count": 2,
     "metadata": {},
     "output_type": "execute_result"
    }
   ],
   "source": [
    "\"\"\"\n",
    "Row normalize a matrix of nonnegative values to\n",
    "produce a row-stochastic matrix.  The input\n",
    "matrix cannot have any row summing to zero!\n",
    "\n",
    "# Examples\n",
    "```julia-repl\n",
    "julia> P = row_norm(A)\n",
    "```\n",
    "\"\"\"\n",
    "function row_norm(A::Array)\n",
    "    return A .* (1 ./ (A*ones(size(A)[2])))\n",
    "end"
   ]
  },
  {
   "cell_type": "code",
   "execution_count": 3,
   "metadata": {},
   "outputs": [
    {
     "data": {
      "text/plain": [
       "5×5 Array{Float64,2}:\n",
       " 0.0  1.0   0.0  0.0   0.0\n",
       " 0.0  0.0   0.5  0.5   0.0\n",
       " 0.0  0.0   0.5  0.25  0.25\n",
       " 0.0  0.25  0.0  0.0   0.75\n",
       " 1.0  0.0   0.0  0.0   0.0"
      ]
     },
     "execution_count": 3,
     "metadata": {},
     "output_type": "execute_result"
    }
   ],
   "source": [
    "A = [ 0 1 0 0 0\n",
    "      0 0 1 1 0\n",
    "      0 0 4 2 2\n",
    "      0 1 0 0 3\n",
    "      1 0 0 0 0 ]\n",
    "P = row_norm(A)"
   ]
  },
  {
   "cell_type": "markdown",
   "metadata": {},
   "source": [
    "## Representing models\n",
    "\n",
    "The following is the single-step transition matrix from the example.\n",
    "\n",
    "$$ P = \\left[\n",
    "       \\begin{matrix}\n",
    "       0 & 1 & 0 & 0 & 0 \\\\\n",
    "       0 & 0 & \\frac{1}{2} & \\frac{1}{2} & 0 \\\\\n",
    "       0 & 0 & \\frac{1}{2} & \\frac{1}{4} & \\frac{1}{4} \\\\\n",
    "       0 & \\frac{1}{4} & 0 & 0 & \\frac{3}{4} \\\\\n",
    "       1 & 0 & 0 & 0 & 0 \n",
    "       \\end{matrix}\n",
    "       \\right] $$"
   ]
  },
  {
   "cell_type": "code",
   "execution_count": 4,
   "metadata": {
    "execution": {
     "iopub.execute_input": "2020-08-16T14:20:20.521000-04:00",
     "iopub.status.busy": "2020-08-16T14:20:20.520000-04:00",
     "iopub.status.idle": "2020-08-16T14:20:22.787000-04:00"
    }
   },
   "outputs": [
    {
     "data": {
      "text/plain": [
       "5×5 Array{Rational{Int64},2}:\n",
       " 0//1  1//1  0//1  0//1  0//1\n",
       " 0//1  0//1  1//2  1//2  0//1\n",
       " 0//1  0//1  1//2  1//4  1//4\n",
       " 0//1  1//4  0//1  0//1  3//4\n",
       " 1//1  0//1  0//1  0//1  0//1"
      ]
     },
     "execution_count": 4,
     "metadata": {},
     "output_type": "execute_result"
    }
   ],
   "source": [
    "P = [ 0    1    0    0    0\n",
    "      0    0  1//2 1//2   0\n",
    "      0    0  1//2 1//4 1//4\n",
    "      0  1//4   0    0  3//4\n",
    "      1    0    0    0    0 ]"
   ]
  },
  {
   "cell_type": "markdown",
   "metadata": {},
   "source": [
    "An alternate way to define the matrix is to use frequency or other weights and row-normalize."
   ]
  },
  {
   "cell_type": "code",
   "execution_count": 5,
   "metadata": {},
   "outputs": [
    {
     "data": {
      "text/plain": [
       "5×5 Array{Float64,2}:\n",
       " 0.0  1.0   0.0  0.0   0.0\n",
       " 0.0  0.0   0.5  0.5   0.0\n",
       " 0.0  0.0   0.5  0.25  0.25\n",
       " 0.0  0.25  0.0  0.0   0.75\n",
       " 1.0  0.0   0.0  0.0   0.0"
      ]
     },
     "execution_count": 5,
     "metadata": {},
     "output_type": "execute_result"
    }
   ],
   "source": [
    "row_norm([0 1 0 0 0; 0 0 1 1 0; 0 0 2 1 1; 0 1 0 0 3; 1 0 0 0 0])"
   ]
  },
  {
   "cell_type": "markdown",
   "metadata": {},
   "source": [
    "The following is the reduced transition matrix (the single-step matrix minus the row and column for the sink).\n",
    "\n",
    "$$ Q = \\left[\n",
    "       \\begin{matrix}\n",
    "       0 & 1 & 0 & 0 \\\\\n",
    "       0 & 0 & \\frac{1}{2} & \\frac{1}{2} \\\\\n",
    "       0 & 0 & \\frac{1}{2} & \\frac{1}{4} \\\\\n",
    "       0 & \\frac{1}{4} & 0 & 0\n",
    "       \\end{matrix}\n",
    "       \\right] $$"
   ]
  },
  {
   "cell_type": "code",
   "execution_count": 6,
   "metadata": {
    "execution": {
     "iopub.execute_input": "2020-08-16T14:20:22.787000-04:00",
     "iopub.status.busy": "2020-08-16T14:20:22.787000-04:00",
     "iopub.status.idle": "2020-08-16T14:20:22.865000-04:00"
    }
   },
   "outputs": [
    {
     "data": {
      "text/plain": [
       "4×4 Array{Rational{Int64},2}:\n",
       " 0//1  1//1  0//1  0//1\n",
       " 0//1  0//1  1//2  1//2\n",
       " 0//1  0//1  1//2  1//4\n",
       " 0//1  1//4  0//1  0//1"
      ]
     },
     "execution_count": 6,
     "metadata": {},
     "output_type": "execute_result"
    }
   ],
   "source": [
    "Q = P[1:end-1,1:end-1]"
   ]
  },
  {
   "cell_type": "markdown",
   "metadata": {},
   "source": [
    "The stimulus matrix $S$ is as follows.\n",
    "\n",
    "$$ S = \\left[\n",
    "       \\begin{matrix}\n",
    "       1 & 0 & 0 & 0 & 0 \\\\\n",
    "       0 & \\frac{1}{2} & \\frac{1}{2} & 0 & 0 \\\\\n",
    "       0 & \\frac{1}{2} & \\frac{1}{4} & \\frac{1}{4} & 0 \\\\\n",
    "       \\frac{1}{4} & 0 & 0 & \\frac{1}{2} & \\frac{1}{4}\n",
    "       \\end{matrix}\n",
    "       \\right] $$"
   ]
  },
  {
   "cell_type": "code",
   "execution_count": 7,
   "metadata": {
    "execution": {
     "iopub.execute_input": "2020-08-16T14:20:22.865000-04:00",
     "iopub.status.busy": "2020-08-16T14:20:22.865000-04:00",
     "iopub.status.idle": "2020-08-16T14:20:22.896000-04:00"
    }
   },
   "outputs": [
    {
     "data": {
      "text/plain": [
       "4×5 Array{Rational{Int64},2}:\n",
       " 1//1  0//1  0//1  0//1  0//1\n",
       " 0//1  1//2  1//2  0//1  0//1\n",
       " 0//1  1//2  1//4  1//4  0//1\n",
       " 1//4  0//1  0//1  1//2  1//4"
      ]
     },
     "execution_count": 7,
     "metadata": {},
     "output_type": "execute_result"
    }
   ],
   "source": [
    "S = [  1    0    0    0    0\n",
    "       0   1//2 1//2  0    0\n",
    "       0   1//2 1//4 1//4  0\n",
    "      1//4  0    0   1//2 1//4 ]"
   ]
  },
  {
   "cell_type": "markdown",
   "metadata": {},
   "source": [
    "## Computing the number of occurrences of a state in a test case\n",
    "\n",
    "The fundamental matrix $N$ is computed as follows.\n",
    "\n",
    "$$ N = (I - Q)^{-1} $$"
   ]
  },
  {
   "cell_type": "code",
   "execution_count": 8,
   "metadata": {
    "execution": {
     "iopub.execute_input": "2020-08-16T14:20:22.897000-04:00",
     "iopub.status.busy": "2020-08-16T14:20:22.897000-04:00",
     "iopub.status.idle": "2020-08-16T14:20:24.117000-04:00"
    },
    "scrolled": true
   },
   "outputs": [
    {
     "data": {
      "text/plain": [
       "4×4 Array{Rational{Int64},2}:\n",
       " 1//1  16//13  16//13  12//13\n",
       " 0//1  16//13  16//13  12//13\n",
       " 0//1   2//13  28//13   8//13\n",
       " 0//1   4//13   4//13  16//13"
      ]
     },
     "execution_count": 8,
     "metadata": {},
     "output_type": "execute_result"
    }
   ],
   "source": [
    "N = inv(I-Q)"
   ]
  },
  {
   "cell_type": "markdown",
   "metadata": {},
   "source": [
    "We compute the matrix of the expected values of the squares $N_2 = \\left[\\mathrm{E}[n^2_{i,j}]\\right]$ as follows.\n",
    "\n",
    "$$ N_2 = N(2N_d - I) $$\n",
    "\n",
    "We obtain $N_d$ in Julia from $N$ with `Diagonal(diag(N))`."
   ]
  },
  {
   "cell_type": "code",
   "execution_count": 9,
   "metadata": {
    "execution": {
     "iopub.execute_input": "2020-08-16T14:20:24.118000-04:00",
     "iopub.status.busy": "2020-08-16T14:20:24.118000-04:00",
     "iopub.status.idle": "2020-08-16T14:20:24.551000-04:00"
    }
   },
   "outputs": [
    {
     "data": {
      "text/plain": [
       "4×4 Array{Rational{Int64},2}:\n",
       " 1//1  304//169   688//169  228//169\n",
       " 0//1  304//169   688//169  228//169\n",
       " 0//1   38//169  1204//169  152//169\n",
       " 0//1   76//169   172//169  304//169"
      ]
     },
     "execution_count": 9,
     "metadata": {},
     "output_type": "execute_result"
    }
   ],
   "source": [
    "Nd = Diagonal(diag(N))\n",
    "N2 = N*(2Nd - I)"
   ]
  },
  {
   "cell_type": "markdown",
   "metadata": {},
   "source": [
    "Now that we can compute the variances directly.\n",
    "\n",
    "$$ \\left[\\mathrm{Var}[n_{i,j}]\\right]\n",
    "   = N_2 - N \\circ N $$"
   ]
  },
  {
   "cell_type": "code",
   "execution_count": 10,
   "metadata": {
    "execution": {
     "iopub.execute_input": "2020-08-16T14:20:24.551000-04:00",
     "iopub.status.busy": "2020-08-16T14:20:24.551000-04:00",
     "iopub.status.idle": "2020-08-16T14:20:24.844000-04:00"
    }
   },
   "outputs": [
    {
     "data": {
      "text/plain": [
       "4×4 Array{Rational{Int64},2}:\n",
       " 0//1  48//169  432//169  84//169\n",
       " 0//1  48//169  432//169  84//169\n",
       " 0//1  34//169  420//169  88//169\n",
       " 0//1  60//169   12//13   48//169"
      ]
     },
     "execution_count": 10,
     "metadata": {},
     "output_type": "execute_result"
    }
   ],
   "source": [
    "VarN = N2 - N.*N"
   ]
  },
  {
   "cell_type": "code",
   "execution_count": 11,
   "metadata": {
    "execution": {
     "iopub.execute_input": "2020-08-16T14:20:24.844000-04:00",
     "iopub.status.busy": "2020-08-16T14:20:24.844000-04:00",
     "iopub.status.idle": "2020-08-16T14:20:26.628000-04:00"
    }
   },
   "outputs": [
    {
     "data": {
      "text/plain": [
       "4×2 Array{Float64,2}:\n",
       " 1.0       0.0\n",
       " 1.23077   0.284024\n",
       " 1.23077   2.55621\n",
       " 0.923077  0.497041"
      ]
     },
     "execution_count": 11,
     "metadata": {},
     "output_type": "execute_result"
    }
   ],
   "source": [
    "convert(Array{Float64},[N[1,:] VarN[1,:]])"
   ]
  },
  {
   "cell_type": "markdown",
   "metadata": {},
   "source": [
    "The following algorithm computes the terminal expectation and variance matrices, given the single-step matrix $P$."
   ]
  },
  {
   "cell_type": "code",
   "execution_count": 12,
   "metadata": {
    "execution": {
     "iopub.execute_input": "2020-08-16T14:20:26.628000-04:00",
     "iopub.status.busy": "2020-08-16T14:20:26.628000-04:00",
     "iopub.status.idle": "2020-08-16T14:20:27.235000-04:00"
    }
   },
   "outputs": [
    {
     "data": {
      "text/plain": [
       "get_nte"
      ]
     },
     "execution_count": 12,
     "metadata": {},
     "output_type": "execute_result"
    }
   ],
   "source": [
    "\"\"\"\n",
    "Compute the non-terminal expectation and\n",
    "variance matrices for the stochastic matrix\n",
    "P.\n",
    "\n",
    "# Examples\n",
    "```julia-repl\n",
    "julia> N,V = get_nte(P)\n",
    "julia> N[1,1:end] V[1,1:end]\n",
    "```\n",
    "\"\"\"\n",
    "function get_nte(P::Array)\n",
    "    Q = P[1:end-1,1:end-1]\n",
    "    N = inv(I-Q)\n",
    "    N2 = N * (2*Diagonal(diag(N)) - I)\n",
    "    V = N2 - N.*N\n",
    "    return N,V\n",
    "end"
   ]
  },
  {
   "cell_type": "markdown",
   "metadata": {},
   "source": [
    "Applied to the example matrix $P$ we obtain the expected number of occurences for each state (first column below) and the associated variance (second column below)."
   ]
  },
  {
   "cell_type": "code",
   "execution_count": 13,
   "metadata": {
    "execution": {
     "iopub.execute_input": "2020-08-16T14:20:27.236000-04:00",
     "iopub.status.busy": "2020-08-16T14:20:27.236000-04:00",
     "iopub.status.idle": "2020-08-16T14:20:27.467000-04:00"
    }
   },
   "outputs": [
    {
     "data": {
      "text/plain": [
       "4×2 Array{Float64,2}:\n",
       " 1.0       0.0\n",
       " 1.23077   0.284024\n",
       " 1.23077   2.55621\n",
       " 0.923077  0.497041"
      ]
     },
     "execution_count": 13,
     "metadata": {},
     "output_type": "execute_result"
    }
   ],
   "source": [
    "N,V = get_nte(P)\n",
    "convert(Array{Float64},[N[1,:] V[1,:]])"
   ]
  },
  {
   "cell_type": "markdown",
   "metadata": {},
   "source": [
    "Let $L$ be a random variable counting the number of states visited in a test case.  By summing the expected number of occurrences, we arrive at the expected length of a realization.  Unfortunately we cannot compute the variance this way; we will find it using a different method later.\n",
    "\n",
    "$$ \\mathrm{E}[L] = \\sum_{i=1}^n \\mathrm{E}[n_{i,j}] $$"
   ]
  },
  {
   "cell_type": "code",
   "execution_count": 14,
   "metadata": {
    "execution": {
     "iopub.execute_input": "2020-08-16T14:20:27.467000-04:00",
     "iopub.status.busy": "2020-08-16T14:20:27.467000-04:00",
     "iopub.status.idle": "2020-08-16T14:20:28.010000-04:00"
    }
   },
   "outputs": [
    {
     "data": {
      "text/plain": [
       "4.384615384615385"
      ]
     },
     "execution_count": 14,
     "metadata": {},
     "output_type": "execute_result"
    }
   ],
   "source": [
    "convert(Float64,sum(N[1,:]))"
   ]
  },
  {
   "cell_type": "markdown",
   "metadata": {},
   "source": [
    "## Computing the long-run state probabilities"
   ]
  },
  {
   "cell_type": "markdown",
   "metadata": {},
   "source": [
    "We can compute the long-run occupancies (or long run state probabilities) from $N$ by summing each row and then normalizing (since we can only be in one node at a time)."
   ]
  },
  {
   "cell_type": "code",
   "execution_count": 15,
   "metadata": {
    "execution": {
     "iopub.execute_input": "2020-08-16T14:20:28.011000-04:00",
     "iopub.status.busy": "2020-08-16T14:20:28.011000-04:00",
     "iopub.status.idle": "2020-08-16T14:20:28.049000-04:00"
    }
   },
   "outputs": [
    {
     "data": {
      "text/plain": [
       "get_pi"
      ]
     },
     "execution_count": 15,
     "metadata": {},
     "output_type": "execute_result"
    }
   ],
   "source": [
    "\"\"\"\n",
    "Compute the Perron eigenvector for the\n",
    "stochastic matrix P and return it.  The\n",
    "computation is performed by computation\n",
    "of the fundamental matrix.\n",
    "\n",
    "If the fundamental matrix is available,\n",
    "providing it as the optional second\n",
    "argument will speed up the computation.\n",
    "\n",
    "# Examples\n",
    "```julia-repl\n",
    "julia> pv = get_pix(P)\n",
    "julia> pv = get_pix(P,N)\n",
    "```\n",
    "\"\"\"\n",
    "function get_pi(P::Array, N::Array=get_nte(P)[1])\n",
    "    len = 1 + sum(N[1,:])\n",
    "    pe = N[1:1,:] ./ len\n",
    "    return [pe 1-sum(pe)]\n",
    "end"
   ]
  },
  {
   "cell_type": "code",
   "execution_count": 16,
   "metadata": {
    "execution": {
     "iopub.execute_input": "2020-08-16T14:20:28.050000-04:00",
     "iopub.status.busy": "2020-08-16T14:20:28.050000-04:00",
     "iopub.status.idle": "2020-08-16T14:20:28.786000-04:00"
    }
   },
   "outputs": [
    {
     "name": "stdout",
     "output_type": "stream",
     "text": [
      "  0.637102 seconds (1.06 M allocations: 52.234 MiB, 2.82% gc time)\n"
     ]
    },
    {
     "data": {
      "text/plain": [
       "1×5 Array{Float64,2}:\n",
       " 0.185714  0.228571  0.228571  0.171429  0.185714"
      ]
     },
     "execution_count": 16,
     "metadata": {},
     "output_type": "execute_result"
    }
   ],
   "source": [
    "pe = @time convert(Array{Float64},get_pi(P))"
   ]
  },
  {
   "cell_type": "markdown",
   "metadata": {},
   "source": [
    "This method requires a matrix inversion.  We may be able to compute this faster using the power method, but only if the matrix is primitive.  We can modify the matrix to make it primitive (by adding a self-loop) and then remove the effect of that change in the results."
   ]
  },
  {
   "cell_type": "code",
   "execution_count": 17,
   "metadata": {
    "execution": {
     "iopub.execute_input": "2020-08-16T14:20:28.787000-04:00",
     "iopub.status.busy": "2020-08-16T14:20:28.787000-04:00",
     "iopub.status.idle": "2020-08-16T14:20:29.291000-04:00"
    }
   },
   "outputs": [
    {
     "data": {
      "text/plain": [
       "get_pi_approx"
      ]
     },
     "execution_count": 17,
     "metadata": {},
     "output_type": "execute_result"
    }
   ],
   "source": [
    "\"\"\"\n",
    "Compute the Perron eigenvector for the\n",
    "stochastic matrix P.  The computation is\n",
    "performed using the power method, and the\n",
    "approximation and the number of steps are\n",
    "returned.\n",
    "\n",
    "An optional initial guess can be provided,\n",
    "and must be a row array whose length is the\n",
    "same as the rank of P.\n",
    "\n",
    "An optional argument `prec` specifies the\n",
    "required precision, and the optional limit\n",
    "`limit` specifies the maximum number of\n",
    "iterations allowed.\n",
    "\n",
    "```julia-repl\n",
    "julia> pe, steps = get_pi_approx(P)\n",
    "julia> pe, steps = get_pi_approx(P, limit=100)\n",
    "julia> pe, steps = get_pi_approx(P, guess)\n",
    "```\n",
    "\"\"\"\n",
    "function get_pi_approx(P::Array,\n",
    "        guess::Array = ones(1,size(P,1)) .* 1//size(P,1);\n",
    "        prec=eps(0.0)*10, limit=200)\n",
    "    n = size(P,1)\n",
    "    d = n+1\n",
    "    # Assure primitivity.\n",
    "    P2 = [P zeros(n,1) ; zeros(1,d)]\n",
    "    P2[n,d] = 1\n",
    "    P2[d,d] = 1//2\n",
    "    P2[d,1] = 1//2\n",
    "    P2[n,1] = 0\n",
    "    # Refine the guess.\n",
    "    yold = [guess guess[end]*2]\n",
    "    yold = yold ./ sum(yold)\n",
    "    y = yold * P2\n",
    "    step = 1\n",
    "    while sum(abs.(yold - y)) > prec\n",
    "        step += 1\n",
    "        if step > limit\n",
    "            break\n",
    "        end\n",
    "        yold = y\n",
    "        y *= P2\n",
    "    end\n",
    "    # Adjust the result to remove the added state.\n",
    "    y = y[:,1:n]\n",
    "    y = y ./ sum(y)\n",
    "    return (y, step)\n",
    "end"
   ]
  },
  {
   "cell_type": "code",
   "execution_count": 18,
   "metadata": {
    "execution": {
     "iopub.execute_input": "2020-08-16T14:20:29.292000-04:00",
     "iopub.status.busy": "2020-08-16T14:20:29.292000-04:00",
     "iopub.status.idle": "2020-08-16T14:20:32.168000-04:00"
    }
   },
   "outputs": [
    {
     "name": "stdout",
     "output_type": "stream",
     "text": [
      "  2.242230 seconds (4.48 M allocations: 214.017 MiB, 3.80% gc time)\n",
      "26 steps\n"
     ]
    },
    {
     "data": {
      "text/plain": [
       "1×5 Array{Float64,2}:\n",
       " 0.185733  0.228563  0.228565  0.171418  0.185721"
      ]
     },
     "execution_count": 18,
     "metadata": {},
     "output_type": "execute_result"
    }
   ],
   "source": [
    "pea,steps = @time get_pi_approx(P, prec=0.0001)\n",
    "println(\"$(steps) steps\")\n",
    "pea"
   ]
  },
  {
   "cell_type": "markdown",
   "metadata": {},
   "source": [
    "We can measure the distance from the approximation to the true value."
   ]
  },
  {
   "cell_type": "code",
   "execution_count": 19,
   "metadata": {
    "execution": {
     "iopub.execute_input": "2020-08-16T14:20:32.168000-04:00",
     "iopub.status.busy": "2020-08-16T14:20:32.168000-04:00",
     "iopub.status.idle": "2020-08-16T14:20:32.433000-04:00"
    }
   },
   "outputs": [
    {
     "data": {
      "text/plain": [
       "6.456462194450325e-10"
      ]
     },
     "execution_count": 19,
     "metadata": {},
     "output_type": "execute_result"
    }
   ],
   "source": [
    "sum((pea - pe).^2)"
   ]
  },
  {
   "cell_type": "markdown",
   "metadata": {},
   "source": [
    "We can (possibly) improve the guess."
   ]
  },
  {
   "cell_type": "code",
   "execution_count": 20,
   "metadata": {
    "execution": {
     "iopub.execute_input": "2020-08-16T14:20:32.434000-04:00",
     "iopub.status.busy": "2020-08-16T14:20:32.434000-04:00",
     "iopub.status.idle": "2020-08-16T14:20:32.454000-04:00"
    }
   },
   "outputs": [
    {
     "data": {
      "text/plain": [
       "7.703719777548943e-33"
      ]
     },
     "execution_count": 20,
     "metadata": {},
     "output_type": "execute_result"
    }
   ],
   "source": [
    "pea,steps = get_pi_approx(P, pea)\n",
    "sum((pea - pe).^2)"
   ]
  },
  {
   "cell_type": "markdown",
   "metadata": {},
   "source": [
    "## Performing sensitivity analysis"
   ]
  },
  {
   "cell_type": "markdown",
   "metadata": {},
   "source": [
    "Sensitivity analysis lets us determine which arcs to change to increase flow to specific nodes.  The sensitivity of state $k$ with respect to the transition from state $i$ to state $j$ is defined by the following equation.\n",
    "\n",
    "$$ z_{i,j,k} = \\frac{ \\pi_k^{p_{i,j}=0.95} - \\pi_k^{p_{i,j}=0.05} }{ 0.90 } $$\n",
    "\n",
    "To make the change to the matrix, we need to set $p_{i,j}$ to a specific value $v$ and then correct the rest of the values in the row so everything sums to one.  Before making the change to $p_{i,j}$ the row summed to one.  Afterward all other entries (except $i,j$) need to sum to $1 - v$.  To perform the normalization, we need to divide by $1 - p_{i,j}$ and then multiply by $1 - v$.  This happens in the innermost `if` statement in the algorithm below."
   ]
  },
  {
   "cell_type": "code",
   "execution_count": 21,
   "metadata": {
    "execution": {
     "iopub.execute_input": "2020-08-16T14:20:32.455000-04:00",
     "iopub.status.busy": "2020-08-16T14:20:32.455000-04:00",
     "iopub.status.idle": "2020-08-16T14:20:32.558000-04:00"
    }
   },
   "outputs": [
    {
     "data": {
      "text/plain": [
       "get_sensitivities"
      ]
     },
     "execution_count": 21,
     "metadata": {},
     "output_type": "execute_result"
    }
   ],
   "source": [
    "\"\"\"\n",
    "Compute the matrix of arc sensitivities.  The first\n",
    "column of the returned matrix is the source state,\n",
    "the second column is the target state.  The\n",
    "remaining columns are the changes in occupancies.\n",
    "\n",
    "The initial long-run occupancies vector `pe` can be\n",
    "provided as the optonal second argument.  This\n",
    "avoids having to compute them before the process\n",
    "starts.\n",
    "\n",
    "```julia-repl\n",
    "julia> sens = get_sensitivities(P)\n",
    "julia> sens = get_sensitivities(P, pe)\n",
    "```\n",
    "\"\"\"\n",
    "function get_sensitivities(P::Array,\n",
    "        pe::Array = get_pi_approx(P)[1])\n",
    "    # Loop over all the arcs.\n",
    "    P2 = P\n",
    "    n = size(P2,1)\n",
    "    Z = []\n",
    "    for i in 1:n\n",
    "        for j in 1:n\n",
    "            # If there is an uncertain transition\n",
    "            # from i to j, compute the sensitivities.\n",
    "            if P[i,j] != 0 && P[i,j] != 1\n",
    "                x = 1 - P[i,j] ; t = P[i,1:n]\n",
    "                P2[i,1:n] = @. t / x * 0.05 ; P2[i,j] = 0.95\n",
    "                peh, _ = get_pi_approx(P2, pe)\n",
    "                P2[i,1:n] = @. t / x * 0.95 ; P2[i,j] = 0.05\n",
    "                pel, _ = get_pi_approx(P2, pe)\n",
    "                P2[i,1:n] = t\n",
    "                row = [i j (peh-pel)./0.9]\n",
    "                if size(Z,1) > 0\n",
    "                    Z = [Z ; row]\n",
    "                else\n",
    "                    Z = row\n",
    "                end\n",
    "            end\n",
    "        end\n",
    "    end\n",
    "    return Z\n",
    "end"
   ]
  },
  {
   "cell_type": "code",
   "execution_count": 22,
   "metadata": {
    "execution": {
     "iopub.execute_input": "2020-08-16T14:20:32.558000-04:00",
     "iopub.status.busy": "2020-08-16T14:20:32.558000-04:00",
     "iopub.status.idle": "2020-08-16T14:20:34.898000-04:00"
    }
   },
   "outputs": [
    {
     "data": {
      "text/plain": [
       "7×7 Array{Float64,2}:\n",
       " 2.0  3.0  -0.047245    -0.09449     0.37796    -0.18898    -0.047245\n",
       " 2.0  4.0   0.047245     0.09449    -0.37796     0.18898     0.047245\n",
       " 3.0  3.0  -0.163906    -0.20173     0.68084    -0.151298   -0.163906\n",
       " 3.0  4.0   0.00315143   0.0378172  -0.182783    0.138663    0.00315143\n",
       " 3.0  5.0   0.0806723    0.0645378  -0.161345   -0.0645378   0.0806723\n",
       " 4.0  2.0  -0.132685     0.0964979   0.0964979   0.0723734  -0.132685\n",
       " 4.0  5.0   0.132685    -0.0964979  -0.0964979  -0.0723734   0.132685"
      ]
     },
     "execution_count": 22,
     "metadata": {},
     "output_type": "execute_result"
    }
   ],
   "source": [
    "Z = get_sensitivities(P)"
   ]
  },
  {
   "cell_type": "code",
   "execution_count": 23,
   "metadata": {},
   "outputs": [
    {
     "data": {
      "text/plain": [
       "7×7 Array{Float64,2}:\n",
       " 2.0  3.0  -0.047245    -0.09449     0.37796    -0.18898    -0.047245\n",
       " 2.0  4.0   0.047245     0.09449    -0.37796     0.18898     0.047245\n",
       " 3.0  3.0  -0.163906    -0.20173     0.68084    -0.151298   -0.163906\n",
       " 3.0  4.0   0.00315143   0.0378172  -0.182783    0.138663    0.00315143\n",
       " 3.0  5.0   0.0806723    0.0645378  -0.161345   -0.0645378   0.0806723\n",
       " 4.0  2.0  -0.132685     0.0964979   0.0964979   0.0723734  -0.132685\n",
       " 4.0  5.0   0.132685    -0.0964979  -0.0964979  -0.0723734   0.132685"
      ]
     },
     "execution_count": 23,
     "metadata": {},
     "output_type": "execute_result"
    }
   ],
   "source": [
    "Z = get_sensitivities(P, pe)"
   ]
  },
  {
   "cell_type": "markdown",
   "metadata": {},
   "source": [
    "## Other long-run statistics"
   ]
  },
  {
   "cell_type": "code",
   "execution_count": 24,
   "metadata": {},
   "outputs": [
    {
     "data": {
      "text/plain": [
       "get_sigma"
      ]
     },
     "execution_count": 24,
     "metadata": {},
     "output_type": "execute_result"
    }
   ],
   "source": [
    "\"\"\"\n",
    "Compute the stimulus long run occupancies, given the\n",
    "stimulus matrix `S` and the long-run state occupancies\n",
    "`pe`.\n",
    "\n",
    "```julia-repl\n",
    "julia> sigma = get_sigma(S, pe)\n",
    "```\n",
    "\"\"\"\n",
    "function get_sigma(S::Array, pe)\n",
    "    # Compute the nomalization factor.\n",
    "    n = size(S,1) ; m = 1/(1-pe[n+1])\n",
    "    p2 = pe[:,1:n]\n",
    "    # Compute the sum for each element.\n",
    "    return (p2*S).*m\n",
    "end"
   ]
  },
  {
   "cell_type": "code",
   "execution_count": 25,
   "metadata": {},
   "outputs": [
    {
     "data": {
      "text/plain": [
       "1×5 Array{Float64,2}:\n",
       " 0.280702  0.280702  0.210526  0.175439  0.0526316"
      ]
     },
     "execution_count": 25,
     "metadata": {},
     "output_type": "execute_result"
    }
   ],
   "source": [
    "sigma = get_sigma(S,pe)"
   ]
  },
  {
   "cell_type": "markdown",
   "metadata": {},
   "source": [
    "## Probability of occurrence for states"
   ]
  },
  {
   "cell_type": "code",
   "execution_count": 26,
   "metadata": {},
   "outputs": [
    {
     "data": {
      "text/plain": [
       "get_node_probability"
      ]
     },
     "execution_count": 26,
     "metadata": {},
     "output_type": "execute_result"
    }
   ],
   "source": [
    "\"\"\"\n",
    "Compute the probability of occurrence\n",
    "of a state in a realization from its \n",
    "\n",
    "```julia-repl\n",
    "julia> Y = get_node_probability(P)\n",
    "julia> Y = get_node_probability(P,N)\n",
    "```\n",
    "\"\"\"\n",
    "function get_node_probability(P, N = get_nte(P)[1])\n",
    "    return N * (Diagonal(1 ./ diag(N)))\n",
    "end"
   ]
  },
  {
   "cell_type": "code",
   "execution_count": 27,
   "metadata": {},
   "outputs": [
    {
     "data": {
      "text/plain": [
       "4×4 Array{Float64,2}:\n",
       " 1.0  1.0    0.571429  0.75\n",
       " 0.0  1.0    0.571429  0.75\n",
       " 0.0  0.125  1.0       0.5\n",
       " 0.0  0.25   0.142857  1.0"
      ]
     },
     "execution_count": 27,
     "metadata": {},
     "output_type": "execute_result"
    }
   ],
   "source": [
    "Y = convert(Array{Float64}, get_node_probability(P, N))"
   ]
  },
  {
   "cell_type": "markdown",
   "metadata": {},
   "source": [
    "## Final notes"
   ]
  },
  {
   "cell_type": "code",
   "execution_count": 28,
   "metadata": {
    "execution": {
     "iopub.execute_input": "2020-08-16T14:20:34.899000-04:00",
     "iopub.status.busy": "2020-08-16T14:20:34.899000-04:00",
     "iopub.status.idle": "2020-08-16T14:20:38.013000-04:00"
    }
   },
   "outputs": [
    {
     "data": {
      "text/latex": [
       "\\begin{tabular}\n",
       "{l | r | l}\n",
       "name & size & summary \\\\\n",
       "\\hline\n",
       "A & 240 bytes & 5×5 Array\\{Int64,2\\} \\\\\n",
       "Base &  & Module \\\\\n",
       "Core &  & Module \\\\\n",
       "Main &  & Module \\\\\n",
       "N & 296 bytes & 4×4 Array\\{Rational\\{Int64\\},2\\} \\\\\n",
       "N2 & 296 bytes & 4×4 Array\\{Rational\\{Int64\\},2\\} \\\\\n",
       "Nd & 112 bytes & 4×4 Diagonal\\{Rational\\{Int64\\},Array\\{Rational\\{Int64\\},1\\}\\} \\\\\n",
       "P & 440 bytes & 5×5 Array\\{Rational\\{Int64\\},2\\} \\\\\n",
       "Q & 296 bytes & 4×4 Array\\{Rational\\{Int64\\},2\\} \\\\\n",
       "S & 360 bytes & 4×5 Array\\{Rational\\{Int64\\},2\\} \\\\\n",
       "V & 296 bytes & 4×4 Array\\{Rational\\{Int64\\},2\\} \\\\\n",
       "VarN & 296 bytes & 4×4 Array\\{Rational\\{Int64\\},2\\} \\\\\n",
       "Y & 168 bytes & 4×4 Array\\{Float64,2\\} \\\\\n",
       "Z & 432 bytes & 7×7 Array\\{Float64,2\\} \\\\\n",
       "get\\_node\\_probability & 0 bytes & typeof(get\\_node\\_probability) \\\\\n",
       "get\\_nte & 0 bytes & typeof(get\\_nte) \\\\\n",
       "get\\_pi & 0 bytes & typeof(get\\_pi) \\\\\n",
       "get\\_pi\\_approx & 0 bytes & typeof(get\\_pi\\_approx) \\\\\n",
       "get\\_sensitivities & 0 bytes & typeof(get\\_sensitivities) \\\\\n",
       "get\\_sigma & 0 bytes & typeof(get\\_sigma) \\\\\n",
       "pe & 80 bytes & 1×5 Array\\{Float64,2\\} \\\\\n",
       "pea & 80 bytes & 1×5 Array\\{Float64,2\\} \\\\\n",
       "row\\_norm & 0 bytes & typeof(row\\_norm) \\\\\n",
       "sigma & 80 bytes & 1×5 Array\\{Float64,2\\} \\\\\n",
       "steps & 8 bytes & Int64 \\\\\n",
       "\\end{tabular}\n"
      ],
      "text/markdown": [
       "| name                 |      size | summary                                                |\n",
       "|:-------------------- | ---------:|:------------------------------------------------------ |\n",
       "| A                    | 240 bytes | 5×5 Array{Int64,2}                                     |\n",
       "| Base                 |           | Module                                                 |\n",
       "| Core                 |           | Module                                                 |\n",
       "| Main                 |           | Module                                                 |\n",
       "| N                    | 296 bytes | 4×4 Array{Rational{Int64},2}                           |\n",
       "| N2                   | 296 bytes | 4×4 Array{Rational{Int64},2}                           |\n",
       "| Nd                   | 112 bytes | 4×4 Diagonal{Rational{Int64},Array{Rational{Int64},1}} |\n",
       "| P                    | 440 bytes | 5×5 Array{Rational{Int64},2}                           |\n",
       "| Q                    | 296 bytes | 4×4 Array{Rational{Int64},2}                           |\n",
       "| S                    | 360 bytes | 4×5 Array{Rational{Int64},2}                           |\n",
       "| V                    | 296 bytes | 4×4 Array{Rational{Int64},2}                           |\n",
       "| VarN                 | 296 bytes | 4×4 Array{Rational{Int64},2}                           |\n",
       "| Y                    | 168 bytes | 4×4 Array{Float64,2}                                   |\n",
       "| Z                    | 432 bytes | 7×7 Array{Float64,2}                                   |\n",
       "| get_node_probability |   0 bytes | typeof(get_node_probability)                           |\n",
       "| get_nte              |   0 bytes | typeof(get_nte)                                        |\n",
       "| get_pi               |   0 bytes | typeof(get_pi)                                         |\n",
       "| get_pi_approx        |   0 bytes | typeof(get_pi_approx)                                  |\n",
       "| get_sensitivities    |   0 bytes | typeof(get_sensitivities)                              |\n",
       "| get_sigma            |   0 bytes | typeof(get_sigma)                                      |\n",
       "| pe                   |  80 bytes | 1×5 Array{Float64,2}                                   |\n",
       "| pea                  |  80 bytes | 1×5 Array{Float64,2}                                   |\n",
       "| row_norm             |   0 bytes | typeof(row_norm)                                       |\n",
       "| sigma                |  80 bytes | 1×5 Array{Float64,2}                                   |\n",
       "| steps                |   8 bytes | Int64                                                  |\n"
      ],
      "text/plain": [
       "  name                      size summary                                               \n",
       "  –––––––––––––––––––– ––––––––– ––––––––––––––––––––––––––––––––––––––––––––––––––––––\n",
       "  A                    240 bytes 5×5 Array{Int64,2}                                    \n",
       "  Base                           Module                                                \n",
       "  Core                           Module                                                \n",
       "  Main                           Module                                                \n",
       "  N                    296 bytes 4×4 Array{Rational{Int64},2}                          \n",
       "  N2                   296 bytes 4×4 Array{Rational{Int64},2}                          \n",
       "  Nd                   112 bytes 4×4 Diagonal{Rational{Int64},Array{Rational{Int64},1}}\n",
       "  P                    440 bytes 5×5 Array{Rational{Int64},2}                          \n",
       "  Q                    296 bytes 4×4 Array{Rational{Int64},2}                          \n",
       "  S                    360 bytes 4×5 Array{Rational{Int64},2}                          \n",
       "  V                    296 bytes 4×4 Array{Rational{Int64},2}                          \n",
       "  VarN                 296 bytes 4×4 Array{Rational{Int64},2}                          \n",
       "  Y                    168 bytes 4×4 Array{Float64,2}                                  \n",
       "  Z                    432 bytes 7×7 Array{Float64,2}                                  \n",
       "  get_node_probability   0 bytes typeof(get_node_probability)                          \n",
       "  get_nte                0 bytes typeof(get_nte)                                       \n",
       "  get_pi                 0 bytes typeof(get_pi)                                        \n",
       "  get_pi_approx          0 bytes typeof(get_pi_approx)                                 \n",
       "  get_sensitivities      0 bytes typeof(get_sensitivities)                             \n",
       "  get_sigma              0 bytes typeof(get_sigma)                                     \n",
       "  pe                    80 bytes 1×5 Array{Float64,2}                                  \n",
       "  pea                   80 bytes 1×5 Array{Float64,2}                                  \n",
       "  row_norm               0 bytes typeof(row_norm)                                      \n",
       "  sigma                 80 bytes 1×5 Array{Float64,2}                                  \n",
       "  steps                  8 bytes Int64                                                 "
      ]
     },
     "execution_count": 28,
     "metadata": {},
     "output_type": "execute_result"
    }
   ],
   "source": [
    "varinfo()"
   ]
  },
  {
   "cell_type": "code",
   "execution_count": null,
   "metadata": {},
   "outputs": [],
   "source": []
  }
 ],
 "metadata": {
  "kernelspec": {
   "display_name": "Julia 1.4.1",
   "language": "julia",
   "name": "julia-1.4"
  },
  "language_info": {
   "file_extension": ".jl",
   "mimetype": "application/julia",
   "name": "julia",
   "version": "1.4.1"
  }
 },
 "nbformat": 4,
 "nbformat_minor": 4
}
